{
 "cells": [
  {
   "cell_type": "markdown",
   "metadata": {},
   "source": [
    "# SMILES enumeration, vectorization and batch generation\n",
    "\n",
    "[![Smiles Enumeration Header](README_files/f467ed21a7e815cdf8a9c29fa75b3ebc12878a74.png)](https://www.cheminformania.com/useful-information/smiles-enumeration-as-data-augmentation-for-molecular-neural-networks/)"
   ]
  },
  {
   "cell_type": "markdown",
   "metadata": {},
   "source": [
    "SMILES enumeration is the process of writing out all possible SMILES forms of a molecule. It's a useful technique for data augmentation before sequence based modeling of molecules. You can read more about the background in this [blog post](https://www.wildcardconsulting.dk/useful-information/smiles-enumeration-as-data-augmentation-for-molecular-neural-networks/) or [this preprint on arxiv.org](https://arxiv.org/abs/1703.07076)"
   ]
  },
  {
   "cell_type": "markdown",
   "metadata": {},
   "source": [
    "Import the SmilesEnumerator and instantiate the object"
   ]
  },
  {
   "cell_type": "code",
   "execution_count": 1,
   "metadata": {},
   "outputs": [
    {
     "name": "stdout",
     "output_type": "stream",
     "text": [
      "Help on class SmilesEnumerator in module SmilesEnumerator:\n",
      "\n",
      "class SmilesEnumerator(builtins.object)\n",
      " |  SmilesEnumerator(charset='@C)(=cOn1S2/H[N]\\\\', pad=120, leftpad=True, isomericSmiles=True, enum=True, canonical=False)\n",
      " |  \n",
      " |  SMILES Enumerator, vectorizer and devectorizer\n",
      " |  \n",
      " |  #Arguments\n",
      " |      charset: string containing the characters for the vectorization\n",
      " |        can also be generated via the .fit() method\n",
      " |      pad: Length of the vectorization\n",
      " |      leftpad: Add spaces to the left of the SMILES\n",
      " |      isomericSmiles: Generate SMILES containing information about stereogenic centers\n",
      " |      enum: Enumerate the SMILES during transform\n",
      " |      canonical: use canonical SMILES during transform (overrides enum)\n",
      " |  \n",
      " |  Methods defined here:\n",
      " |  \n",
      " |  __init__(self, charset='@C)(=cOn1S2/H[N]\\\\', pad=120, leftpad=True, isomericSmiles=True, enum=True, canonical=False)\n",
      " |      Initialize self.  See help(type(self)) for accurate signature.\n",
      " |  \n",
      " |  fit(self, smiles, extra_chars=[], extra_pad=5)\n",
      " |      Performs extraction of the charset and length of a SMILES datasets and sets self.pad and self.charset\n",
      " |      \n",
      " |      #Arguments\n",
      " |          smiles: Numpy array or Pandas series containing smiles as strings\n",
      " |          extra_chars: List of extra chars to add to the charset (e.g. \"\\\\\" when \"/\" is present)\n",
      " |          extra_pad: Extra padding to add before or after the SMILES vectorization\n",
      " |  \n",
      " |  randomize_smiles(self, smiles)\n",
      " |      Perform a randomization of a SMILES string\n",
      " |      must be RDKit sanitizable\n",
      " |  \n",
      " |  reverse_transform(self, vect)\n",
      " |      Performs a conversion of a vectorized SMILES to a smiles strings\n",
      " |      charset must be the same as used for vectorization.\n",
      " |      #Arguments\n",
      " |          vect: Numpy array of vectorized SMILES.\n",
      " |  \n",
      " |  transform(self, smiles)\n",
      " |      Perform an enumeration (randomization) and vectorization of a Numpy array of smiles strings\n",
      " |      #Arguments\n",
      " |          smiles: Numpy array or Pandas series containing smiles as strings\n",
      " |  \n",
      " |  ----------------------------------------------------------------------\n",
      " |  Data descriptors defined here:\n",
      " |  \n",
      " |  __dict__\n",
      " |      dictionary for instance variables (if defined)\n",
      " |  \n",
      " |  __weakref__\n",
      " |      list of weak references to the object (if defined)\n",
      " |  \n",
      " |  charset\n",
      "\n",
      "None\n"
     ]
    }
   ],
   "source": [
    "from SmilesEnumerator import SmilesEnumerator\n",
    "sme = SmilesEnumerator()\n",
    "print(help(SmilesEnumerator))"
   ]
  },
  {
   "cell_type": "markdown",
   "metadata": {},
   "source": [
    "A few SMILES strings will be enumerated as a demonstration."
   ]
  },
  {
   "cell_type": "code",
   "execution_count": 2,
   "metadata": {},
   "outputs": [
    {
     "name": "stdout",
     "output_type": "stream",
     "text": [
      "c1cccc([C@@]2(OC(CC)=O)CC[NH+](C)C[C@H]2CC=C)c1\n",
      "C([C@H]1[C@@](OC(CC)=O)(c2ccccc2)CC[NH+](C)C1)C=C\n",
      "c1ccc([C@]2(OC(=O)CC)[C@H](CC=C)C[NH+](C)CC2)cc1\n",
      "c1cccc([C@@]2(OC(=O)CC)CC[NH+](C)C[C@H]2CC=C)c1\n",
      "C(=O)(CC)O[C@]1(c2ccccc2)CC[NH+](C)C[C@H]1CC=C\n",
      "C(C)C(O[C@@]1(c2ccccc2)[C@H](CC=C)C[NH+](C)CC1)=O\n",
      "C1[NH+](C)C[C@@H](CC=C)[C@@](OC(CC)=O)(c2ccccc2)C1\n",
      "C(C)C(=O)O[C@@]1(c2ccccc2)[C@H](CC=C)C[NH+](C)CC1\n",
      "CCC(O[C@]1(c2ccccc2)CC[NH+](C)C[C@H]1CC=C)=O\n",
      "C(C(O[C@]1(c2ccccc2)CC[NH+](C)C[C@H]1CC=C)=O)C\n"
     ]
    }
   ],
   "source": [
    "for i in range(10):\n",
    "    print(sme.randomize_smiles(\"CCC(=O)O[C@@]1(CC[NH+](C[C@H]1CC=C)C)c2ccccc2\"))"
   ]
  },
  {
   "cell_type": "markdown",
   "metadata": {},
   "source": [
    "## Vectorization"
   ]
  },
  {
   "cell_type": "markdown",
   "metadata": {},
   "source": [
    "Before vectorization SMILES must be stored as strings in an numpy array. The transform takes numpy arrays or pandas series with the SMILES as strings."
   ]
  },
  {
   "cell_type": "code",
   "execution_count": 3,
   "metadata": {
    "scrolled": true
   },
   "outputs": [
    {
     "name": "stdout",
     "output_type": "stream",
     "text": [
      "(1,)\n"
     ]
    }
   ],
   "source": [
    "import numpy as np\n",
    "smiles = np.array([\"CCC(=O)O[C@@]1(CC[NH+](C[C@H]1CC=C)C)c2ccccc2\"])\n",
    "print(smiles.shape)"
   ]
  },
  {
   "cell_type": "markdown",
   "metadata": {},
   "source": [
    "Fit the charset and the padding to the SMILES array, alternatively they can be specified when instantiating the object."
   ]
  },
  {
   "cell_type": "code",
   "execution_count": 4,
   "metadata": {},
   "outputs": [
    {
     "name": "stdout",
     "output_type": "stream",
     "text": [
      "=2@NH+c]OC([1)\n",
      "50\n"
     ]
    }
   ],
   "source": [
    "sme.fit(smiles)\n",
    "print(sme.charset)\n",
    "print(sme.pad)"
   ]
  },
  {
   "cell_type": "markdown",
   "metadata": {},
   "source": [
    "There have been added some extra padding to the maximum lenght observed in the smiles array. The SMILES can be transformed to one-hot encoded vectors and showed with matplotlib."
   ]
  },
  {
   "cell_type": "code",
   "execution_count": 5,
   "metadata": {},
   "outputs": [
    {
     "data": {
      "text/plain": [
       "<matplotlib.image.AxesImage at 0x7f9cbde54d30>"
      ]
     },
     "execution_count": 5,
     "metadata": {},
     "output_type": "execute_result"
    },
    {
     "data": {
      "image/png": "[encoded data removed]",
      "text/plain": [
       "<Figure size 432x288 with 1 Axes>"
      ]
     },
     "metadata": {
      "needs_background": "light"
     },
     "output_type": "display_data"
    }
   ],
   "source": [
    "import matplotlib.pyplot as plt\n",
    "%matplotlib inline\n",
    "vect = sme.transform(smiles)\n",
    "plt.imshow(vect[0])"
   ]
  },
  {
   "cell_type": "markdown",
   "metadata": {},
   "source": [
    "It's a nice piano roll. If the vectorization is repeated, the vectorization will be different due to the enumeration, as sme.enum and sme.canonical is set to True and False, respectively (default settings)."
   ]
  },
  {
   "cell_type": "code",
   "execution_count": 7,
   "metadata": {},
   "outputs": [
    {
     "name": "stdout",
     "output_type": "stream",
     "text": [
      "True False\n"
     ]
    },
    {
     "data": {
      "text/plain": [
       "<matplotlib.image.AxesImage at 0x7f9cb5d544c0>"
      ]
     },
     "execution_count": 7,
     "metadata": {},
     "output_type": "execute_result"
    },
    {
     "data": {
      "image/png": "[encoded data removed]",
      "text/plain": [
       "<Figure size 432x288 with 1 Axes>"
      ]
     },
     "metadata": {
      "needs_background": "light"
     },
     "output_type": "display_data"
    }
   ],
   "source": [
    "print(sme.enumerate, sme.canonical)\n",
    "vect = sme.transform(smiles)\n",
    "plt.imshow(vect[0])"
   ]
  },
  {
   "cell_type": "markdown",
   "metadata": {},
   "source": [
    "The reverse_transform() function can be used to translate back to a SMILES string, as long as the charset is the same as was used to vectorize."
   ]
  },
  {
   "cell_type": "code",
   "execution_count": 8,
   "metadata": {},
   "outputs": [
    {
     "name": "stdout",
     "output_type": "stream",
     "text": [
      "['CCC(=O)O[C@@]1(c2ccccc2)[C@H](CC=C)C[NH+](C)CC1']\n"
     ]
    }
   ],
   "source": [
    "print(sme.reverse_transform(vect))"
   ]
  },
  {
   "cell_type": "markdown",
   "metadata": {},
   "source": [
    "## Batch generation for Keras RNN modeling"
   ]
  },
  {
   "cell_type": "markdown",
   "metadata": {},
   "source": [
    "The SmilesEnumerator class can be used together with the SmilesIterator batch generator for on the fly vectorization for RNN modeling of molecules. Below it's briefly demonstrated how this can be done."
   ]
  },
  {
   "cell_type": "code",
   "execution_count": 9,
   "metadata": {},
   "outputs": [
    {
     "name": "stdout",
     "output_type": "stream",
     "text": [
      "   Unnamed: 0                                      smiles_parent PC_uM_sign  \\\n",
      "0           0                      CCc1nc(N)nc(N)c1-c1ccc(Cl)cc1        NaN   \n",
      "1           1                  CCc1nc(N)nc(N)c1-c1ccc(Cl)c(Cl)c1        NaN   \n",
      "2           2                   Cc1nc(N)nc(N)c1-c1ccc(Cl)c(Cl)c1        NaN   \n",
      "3           3                CCOCc1nc(N)nc(N)c1-c1ccc(Cl)c(Cl)c1        NaN   \n",
      "4           4  Nc1nc(N)c(-c2ccc(Cl)cc2)c(COc2ccc([N+](=O)[O-]...        NaN   \n",
      "\n",
      "   PC_uM_value  \n",
      "0         3.70  \n",
      "1         1.08  \n",
      "2         1.68  \n",
      "3        12.70  \n",
      "4        85.10  \n"
     ]
    }
   ],
   "source": [
    "import pandas as pd\n",
    "\n",
    "data = pd.read_csv(\"Example_data/Sutherland_DHFR.csv\")\n",
    "print(data.head())"
   ]
  },
  {
   "cell_type": "code",
   "execution_count": 11,
   "metadata": {},
   "outputs": [
    {
     "data": {
      "image/png": "[encoded data removed]",
      "text/plain": [
       "<Figure size 432x288 with 1 Axes>"
      ]
     },
     "metadata": {
      "needs_background": "light"
     },
     "output_type": "display_data"
    }
   ],
   "source": [
    "from sklearn.model_selection import train_test_split\n",
    "\n",
    "#We ignore the > signs, and use random splitting for simplicity\n",
    "X_train,  X_test, y_train, y_test = train_test_split(data[\"smiles_parent\"],\n",
    "                                                     np.log(data[\"PC_uM_value\"]).values.reshape(-1,1),\n",
    "                                                     random_state=42)\n",
    "\n",
    "from sklearn.preprocessing import RobustScaler\n",
    "rbs = RobustScaler(with_centering=True, with_scaling=True, quantile_range=(5.0, 95.0), copy=True)\n",
    "y_train = rbs.fit_transform((y_train))\n",
    "y_test = rbs.transform(y_test)\n",
    "_ = plt.hist(y_train, bins=25)"
   ]
  },
  {
   "cell_type": "code",
   "execution_count": 16,
   "metadata": {},
   "outputs": [
    {
     "name": "stdout",
     "output_type": "stream",
     "text": [
      "3o4n+c-(l5N[s1F=SB2IH]#OrC)\n",
      "75\n"
     ]
    }
   ],
   "source": [
    "import tensorflow.keras.backend as K\n",
    "from SmilesEnumerator import SmilesIterator\n",
    "#The SmilesEnumerator must be fit to the entire dataset, so that all chars are registered\n",
    "sme.fit(data[\"smiles_parent\"])\n",
    "sme.leftpad = True\n",
    "print(sme.charset)\n",
    "print(sme.pad)\n",
    "#The dtype is set for the K.floatx(), which is the numerical type configured for Tensorflow or Theano\n",
    "generator = SmilesIterator(X_train, y_train, sme, batch_size=200, dtype=K.floatx())"
   ]
  },
  {
   "cell_type": "code",
   "execution_count": 18,
   "metadata": {},
   "outputs": [
    {
     "name": "stdout",
     "output_type": "stream",
     "text": [
      "(200, 75, 27)\n",
      "(200, 1)\n"
     ]
    }
   ],
   "source": [
    "X,y = generator.next()\n",
    "print(X.shape)\n",
    "print(y.shape)"
   ]
  },
  {
   "cell_type": "markdown",
   "metadata": {},
   "source": [
    "Build a SMILES based RNN QSAR model with Keras."
   ]
  },
  {
   "cell_type": "code",
   "execution_count": 25,
   "metadata": {},
   "outputs": [],
   "source": [
    "from tensorflow.keras.models import Sequential\n",
    "from tensorflow.keras.layers import Dense, LSTM\n",
    "from tensorflow.keras import regularizers\n",
    "from tensorflow.keras.optimizers import RMSprop"
   ]
  },
  {
   "cell_type": "code",
   "execution_count": 45,
   "metadata": {},
   "outputs": [
    {
     "name": "stdout",
     "output_type": "stream",
     "text": [
      "Model: \"sequential_4\"\n",
      "_________________________________________________________________\n",
      " Layer (type)                Output Shape              Param #   \n",
      "=================================================================\n",
      " lstm_4 (LSTM)               (None, 64)                23552     \n",
      "                                                                 \n",
      " dense_4 (Dense)             (None, 1)                 65        \n",
      "                                                                 \n",
      "=================================================================\n",
      "Total params: 23,617\n",
      "Trainable params: 23,617\n",
      "Non-trainable params: 0\n",
      "_________________________________________________________________\n",
      "None\n"
     ]
    }
   ],
   "source": [
    "input_shape = X.shape[1:]\n",
    "output_shape = 1\n",
    "\n",
    "model = Sequential()\n",
    "model.add(LSTM(64,\n",
    "               input_shape=input_shape,\n",
    "               dropout = 0.19\n",
    "               #unroll= True\n",
    "              ))\n",
    "model.add(Dense(output_shape,\n",
    "                kernel_regularizer=regularizers.l1_l2(0.005,0.01),\n",
    "                activation=\"linear\"))\n",
    "\n",
    "model.compile(loss=\"mse\", optimizer=RMSprop(lr=0.005))\n",
    "print(model.summary())"
   ]
  },
  {
   "cell_type": "markdown",
   "metadata": {},
   "source": [
    "Use the generator object for training."
   ]
  },
  {
   "cell_type": "code",
   "execution_count": 46,
   "metadata": {},
   "outputs": [
    {
     "name": "stderr",
     "output_type": "stream",
     "text": [
      "/tmp/ipykernel_1329301/2098089966.py:1: UserWarning: `Model.fit_generator` is deprecated and will be removed in a future version. Please use `Model.fit`, which supports generators.\n",
      "  model.fit_generator(generator, steps_per_epoch=100, epochs=25, workers=4)\n"
     ]
    },
    {
     "name": "stdout",
     "output_type": "stream",
     "text": [
      "Epoch 1/25\n",
      "100/100 [==============================] - 8s 67ms/step - loss: 0.1390\n",
      "Epoch 2/25\n",
      "100/100 [==============================] - 6s 62ms/step - loss: 0.1065\n",
      "Epoch 3/25\n",
      "100/100 [==============================] - 6s 62ms/step - loss: 0.0945\n",
      "Epoch 4/25\n",
      "100/100 [==============================] - 6s 62ms/step - loss: 0.0899\n",
      "Epoch 5/25\n",
      "100/100 [==============================] - 6s 63ms/step - loss: 0.0853\n",
      "Epoch 6/25\n",
      "100/100 [==============================] - 6s 61ms/step - loss: 0.0804\n",
      "Epoch 7/25\n",
      "100/100 [==============================] - 6s 62ms/step - loss: 0.0783\n",
      "Epoch 8/25\n",
      "100/100 [==============================] - 6s 63ms/step - loss: 0.0800\n",
      "Epoch 9/25\n",
      "100/100 [==============================] - 6s 62ms/step - loss: 0.0740\n",
      "Epoch 10/25\n",
      "100/100 [==============================] - 6s 61ms/step - loss: 0.0737\n",
      "Epoch 11/25\n",
      "100/100 [==============================] - 6s 62ms/step - loss: 0.0716\n",
      "Epoch 12/25\n",
      "100/100 [==============================] - 6s 60ms/step - loss: 0.0677\n",
      "Epoch 13/25\n",
      "100/100 [==============================] - 6s 62ms/step - loss: 0.0656\n",
      "Epoch 14/25\n",
      "100/100 [==============================] - 6s 61ms/step - loss: 0.0636\n",
      "Epoch 15/25\n",
      "100/100 [==============================] - 6s 62ms/step - loss: 0.0617\n",
      "Epoch 16/25\n",
      "100/100 [==============================] - 6s 62ms/step - loss: 0.0605\n",
      "Epoch 17/25\n",
      "100/100 [==============================] - 6s 61ms/step - loss: 0.0592\n",
      "Epoch 18/25\n",
      "100/100 [==============================] - 6s 63ms/step - loss: 0.0580\n",
      "Epoch 19/25\n",
      "100/100 [==============================] - 6s 61ms/step - loss: 0.0561\n",
      "Epoch 20/25\n",
      "100/100 [==============================] - 6s 63ms/step - loss: 0.0555\n",
      "Epoch 21/25\n",
      "100/100 [==============================] - 6s 61ms/step - loss: 0.0543\n",
      "Epoch 22/25\n",
      "100/100 [==============================] - 6s 62ms/step - loss: 0.0517\n",
      "Epoch 23/25\n",
      "100/100 [==============================] - 6s 61ms/step - loss: 0.0553\n",
      "Epoch 24/25\n",
      "100/100 [==============================] - 6s 60ms/step - loss: 0.0512\n",
      "Epoch 25/25\n",
      "100/100 [==============================] - 6s 63ms/step - loss: 0.0497\n"
     ]
    },
    {
     "data": {
      "text/plain": [
       "<keras.callbacks.History at 0x7f9bdc1a30a0>"
      ]
     },
     "execution_count": 46,
     "metadata": {},
     "output_type": "execute_result"
    }
   ],
   "source": [
    "model.fit_generator(generator, steps_per_epoch=100, epochs=25, workers=4)"
   ]
  },
  {
   "cell_type": "code",
   "execution_count": 47,
   "metadata": {},
   "outputs": [
    {
     "data": {
      "text/plain": [
       "<matplotlib.legend.Legend at 0x7f9bb8162260>"
      ]
     },
     "execution_count": 47,
     "metadata": {},
     "output_type": "execute_result"
    },
    {
     "data": {
      "image/png": "[encoded data removed]",
      "text/plain": [
       "<Figure size 432x288 with 1 Axes>"
      ]
     },
     "metadata": {
      "needs_background": "light"
     },
     "output_type": "display_data"
    }
   ],
   "source": [
    "y_pred_train = model.predict(sme.transform(X_train))\n",
    "y_pred_test = model.predict(sme.transform(X_test))\n",
    "plt.scatter(y_train, y_pred_train, label=\"Train\")\n",
    "plt.scatter(y_test, y_pred_test, label=\"Test\")\n",
    "plt.legend()"
   ]
  },
  {
   "cell_type": "markdown",
   "metadata": {},
   "source": [
    "Not the best model until now. However, prolonged training with lowering of the learning rate towards the end will improve the model."
   ]
  },
  {
   "cell_type": "code",
   "execution_count": 50,
   "metadata": {},
   "outputs": [
    {
     "name": "stdout",
     "output_type": "stream",
     "text": [
      "[0.23319628]\n",
      "[[0.11318717]]\n"
     ]
    }
   ],
   "source": [
    "#The Enumerator can be used in sampling\n",
    "i = 0\n",
    "\n",
    "y_true = y_test[i]\n",
    "y_pred = model.predict(sme.transform(X_test.iloc[i:i+1]))\n",
    "print(y_true)\n",
    "print(y_true - y_pred)"
   ]
  },
  {
   "cell_type": "code",
   "execution_count": 51,
   "metadata": {},
   "outputs": [
    {
     "name": "stdout",
     "output_type": "stream",
     "text": [
      "0.037997264\n",
      "[0.1770267]\n"
     ]
    },
    {
     "data": {
      "image/png": "[encoded data removed]",
      "text/plain": [
       "<Figure size 432x288 with 1 Axes>"
      ]
     },
     "metadata": {
      "needs_background": "light"
     },
     "output_type": "display_data"
    }
   ],
   "source": [
    "#Enumeration of the SMILES before sampling stabilises the result\n",
    "smiles_repeat = np.array([X_test.iloc[i:i+1].values[0]]*50)\n",
    "y_pred = model.predict(sme.transform(smiles_repeat))\n",
    "print(y_pred.std())\n",
    "print(y_true - np.median(y_pred))\n",
    "_ = plt.hist(y_pred)"
   ]
  },
  {
   "cell_type": "markdown",
   "metadata": {},
   "source": [
    "## Bibliography\n",
    "\n",
    "Please cite: [SMILES enumeration as Data Augmentation for Network Modeling of Molecules](https://arxiv.org/abs/1703.07076)\n",
    "\n",
    "```bibtex\n",
    "@article{DBLP:journals/corr/Bjerrum17,\n",
    "  author    = {Esben Jannik Bjerrum},\n",
    "  title     = {{SMILES} Enumeration as Data Augmentation for Neural Network Modeling\n",
    "               of Molecules},\n",
    "  journal   = {CoRR},\n",
    "  volume    = {abs/1703.07076},\n",
    "  year      = {2017},\n",
    "  url       = {http://arxiv.org/abs/1703.07076},\n",
    "  timestamp = {Wed, 07 Jun 2017 14:40:38 +0200},\n",
    "  biburl    = {http://dblp.uni-trier.de/rec/bib/journals/corr/Bjerrum17},\n",
    "  bibsource = {dblp computer science bibliography, http://dblp.org}\n",
    "}\n",
    "```\n"
   ]
  },
  {
   "cell_type": "markdown",
   "metadata": {},
   "source": [
    "If you find it useful, feel welcome to leave a comment on the [blog.](https://www.wildcardconsulting.dk/useful-information/smiles-enumeration-as-data-augmentation-for-molecular-neural-networks/) "
   ]
  },
  {
   "cell_type": "code",
   "execution_count": null,
   "metadata": {},
   "outputs": [],
   "source": []
  }
 ],
 "metadata": {
  "interpreter": {
   "hash": "c9a86ac528b3a8bdb0d9dcbf7d2ccb9a7e51334800a6d14be106c8053a0ef2bb"
  },
  "kernelspec": {
   "display_name": "Keras2.1.1-Tensorflow",
   "language": "python",
   "name": "python3"
  },
  "language_info": {
   "codemirror_mode": {
    "name": "ipython",
    "version": 3
   },
   "file_extension": ".py",
   "mimetype": "text/x-python",
   "name": "python",
   "nbconvert_exporter": "python",
   "pygments_lexer": "ipython3",
   "version": "3.10.4"
  }
 },
 "nbformat": 4,
 "nbformat_minor": 2
}
